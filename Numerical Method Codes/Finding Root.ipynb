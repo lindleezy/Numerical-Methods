{
 "cells": [
  {
   "cell_type": "markdown",
   "metadata": {},
   "source": [
    "# Finding the Roots of Equations"
   ]
  },
  {
   "cell_type": "markdown",
   "metadata": {},
   "source": [
    "### This notebook contains the codes for different methods in finding the roots of the function, $f(x) = x^2 - 9$. The methods are as follows:"
   ]
  },
  {
   "cell_type": "markdown",
   "metadata": {},
   "source": [
    "## Bisection Method"
   ]
  },
  {
   "cell_type": "code",
   "execution_count": 1,
   "metadata": {},
   "outputs": [],
   "source": [
    "def Bisection(f, x1, x2, delta):\n",
    "\n",
    "    x3 = float(0.5*(x1 + x2))\n",
    "    niterations = 0\n",
    "\n",
    "    while abs(f(x3)) > delta:\n",
    "\n",
    "        if f(x3)*f(x1) <= 0:\n",
    "            x2 = x3\n",
    "        else:\n",
    "            x1 = x3\n",
    "\n",
    "        x3 = float(0.5*(x2 + x1))\n",
    "        niterations +=1\n",
    "\n",
    "    print 'Root: %f' %x3\n",
    "    print 'Number of Iterations: %i' %niterations"
   ]
  },
  {
   "cell_type": "code",
   "execution_count": 2,
   "metadata": {},
   "outputs": [
    {
     "name": "stdout",
     "output_type": "stream",
     "text": [
      "Root: 3.000000\n",
      "Number of Iterations: 30\n"
     ]
    }
   ],
   "source": [
    "f = lambda x: x**2 - 9\n",
    "x1 = 0\n",
    "x2 = 1000\n",
    "delta = 10**-6\n",
    "Bisection(f, x1, x2, delta)"
   ]
  },
  {
   "cell_type": "markdown",
   "metadata": {},
   "source": [
    "## Secant Method"
   ]
  },
  {
   "cell_type": "code",
   "execution_count": 3,
   "metadata": {},
   "outputs": [],
   "source": [
    "def Secant(f, x1, x2, delta):\n",
    "    \n",
    "    niterations = 0\n",
    "    \n",
    "    while abs(f(x1)) > delta and niterations < 100:\n",
    "        \n",
    "        x3 = x2 - float(f(x2))*(float(x2 - x1)/float(f(x2) - f(x1)))\n",
    "        \n",
    "        x1 = x2\n",
    "        x2 = x3\n",
    "        niterations += 1\n",
    "    \n",
    "    print 'Root: %f' %x3\n",
    "    print 'Number of Iterations: %i' %niterations"
   ]
  },
  {
   "cell_type": "code",
   "execution_count": 4,
   "metadata": {},
   "outputs": [
    {
     "name": "stdout",
     "output_type": "stream",
     "text": [
      "Root: 3.000000\n",
      "Number of Iterations: 19\n"
     ]
    }
   ],
   "source": [
    "f = lambda x: x**2 - 9\n",
    "x1 = 0\n",
    "x2 = 1000\n",
    "delta = 10**-6\n",
    "Secant(f, x1, x2, delta)"
   ]
  },
  {
   "cell_type": "markdown",
   "metadata": {},
   "source": [
    "## Newton Method"
   ]
  },
  {
   "cell_type": "code",
   "execution_count": 5,
   "metadata": {},
   "outputs": [],
   "source": [
    "def Newton(f, x, df, delta):\n",
    "    \n",
    "    niterations = 0\n",
    "    \n",
    "    while abs(f(x)) > delta:\n",
    "        \n",
    "        x = x - float(f(x))/df(x)\n",
    "        \n",
    "        niterations += 1\n",
    "    \n",
    "    print 'Root: %f' %x \n",
    "    print 'Number of Iterations: %i' %niterations"
   ]
  },
  {
   "cell_type": "code",
   "execution_count": 6,
   "metadata": {},
   "outputs": [
    {
     "name": "stdout",
     "output_type": "stream",
     "text": [
      "Root: 3.000000\n",
      "Number of Iterations: 12\n"
     ]
    }
   ],
   "source": [
    "f = lambda x: x**2 - 9\n",
    "df = lambda x: 2*x\n",
    "x = 1000\n",
    "delta = 10**-6\n",
    "Newton(f, x, df, delta)"
   ]
  }
 ],
 "metadata": {
  "kernelspec": {
   "display_name": "Python 3",
   "language": "python",
   "name": "python3"
  },
  "language_info": {
   "codemirror_mode": {
    "name": "ipython",
    "version": 3
   },
   "file_extension": ".py",
   "mimetype": "text/x-python",
   "name": "python",
   "nbconvert_exporter": "python",
   "pygments_lexer": "ipython3",
   "version": "3.7.7"
  }
 },
 "nbformat": 4,
 "nbformat_minor": 2
}

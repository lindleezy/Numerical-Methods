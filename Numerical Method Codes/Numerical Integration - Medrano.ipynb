{
 "cells": [
  {
   "cell_type": "code",
   "execution_count": 1,
   "metadata": {
    "ExecuteTime": {
     "end_time": "2020-11-27T13:39:43.552550Z",
     "start_time": "2020-11-27T13:39:43.397942Z"
    }
   },
   "outputs": [],
   "source": [
    "import numpy as np\n",
    "import warnings\n",
    "import random\n",
    "warnings.filterwarnings(\"ignore\", category=RuntimeWarning) "
   ]
  },
  {
   "cell_type": "markdown",
   "metadata": {},
   "source": [
    "#### Integrate the two integrals for which the answers are less obvious:\n",
    "\n",
    "$$F_{1}(\\text{x}) = \\int^{2\\pi}_{0}\\sin{100x}\\text{ dx}$$\n",
    "$$F_{2}(\\text{x}) = \\int^{2\\pi}_{0}\\sin^{x}{100x}\\text{ dx}$$"
   ]
  },
  {
   "cell_type": "code",
   "execution_count": 2,
   "metadata": {
    "ExecuteTime": {
     "end_time": "2020-11-27T13:39:43.558496Z",
     "start_time": "2020-11-27T13:39:43.554495Z"
    }
   },
   "outputs": [],
   "source": [
    "def func1(x):\n",
    "    return np.sin(100*x)\n",
    "def func2(x):\n",
    "    return np.sin(100*x)**x"
   ]
  },
  {
   "cell_type": "markdown",
   "metadata": {},
   "source": [
    "### Trapezoidal Rule for Numerical Integration"
   ]
  },
  {
   "cell_type": "code",
   "execution_count": 3,
   "metadata": {
    "ExecuteTime": {
     "end_time": "2020-11-27T13:39:43.571458Z",
     "start_time": "2020-11-27T13:39:43.564468Z"
    }
   },
   "outputs": [],
   "source": [
    "def Trapezoidal(func, a, b, n):\n",
    "    f = func\n",
    "    d = (b - a) / n\n",
    "    \n",
    "    sumval = 0.5* (f(a)-f(b))\n",
    "    for i in range(1, n):\n",
    "        sumval += f(a + i * d)\n",
    "    sumval *=d\n",
    "    \n",
    "    print(f'The integral of the function is: {sumval}')"
   ]
  },
  {
   "cell_type": "markdown",
   "metadata": {},
   "source": [
    "Applying the Trapezoidal Rule to $F_{1}(\\text{x})$:"
   ]
  },
  {
   "cell_type": "code",
   "execution_count": 4,
   "metadata": {
    "ExecuteTime": {
     "end_time": "2020-11-27T13:39:43.583420Z",
     "start_time": "2020-11-27T13:39:43.573444Z"
    }
   },
   "outputs": [
    {
     "name": "stdout",
     "output_type": "stream",
     "text": [
      "The integral of the function is: 8.525728329837548e-14\n"
     ]
    }
   ],
   "source": [
    "Trapezoidal(func1, 0, 2*np.pi, 100)"
   ]
  },
  {
   "cell_type": "markdown",
   "metadata": {},
   "source": [
    "Applying the Trapezoidal Rule to $F_{2}(\\text{x})$:"
   ]
  },
  {
   "cell_type": "code",
   "execution_count": 5,
   "metadata": {
    "ExecuteTime": {
     "end_time": "2020-11-27T13:39:43.596422Z",
     "start_time": "2020-11-27T13:39:43.585413Z"
    }
   },
   "outputs": [
    {
     "name": "stdout",
     "output_type": "stream",
     "text": [
      "The integral of the function is: nan\n"
     ]
    }
   ],
   "source": [
    "Trapezoidal(func2, 0, 2*np.pi, 100)"
   ]
  },
  {
   "cell_type": "markdown",
   "metadata": {},
   "source": [
    "### Monte Carlo Integration"
   ]
  },
  {
   "cell_type": "code",
   "execution_count": 6,
   "metadata": {
    "ExecuteTime": {
     "end_time": "2020-11-27T13:39:43.606358Z",
     "start_time": "2020-11-27T13:39:43.597381Z"
    }
   },
   "outputs": [],
   "source": [
    "def MonteCarlo(func, a, b, n):\n",
    "    \n",
    "    randx = np.zeros(n)\n",
    "    integral = 0\n",
    "    \n",
    "    for i in range(len(randx)):\n",
    "        randx[i]=random.uniform(a,b)\n",
    "    for i in range(n):\n",
    "        integral += func(randx[i])\n",
    "    \n",
    "    answer = (b-a)/n*integral\n",
    "    print(f'The integral of the function is: {answer}')    "
   ]
  },
  {
   "cell_type": "code",
   "execution_count": 7,
   "metadata": {
    "ExecuteTime": {
     "end_time": "2020-11-27T13:39:43.872644Z",
     "start_time": "2020-11-27T13:39:43.610347Z"
    }
   },
   "outputs": [
    {
     "name": "stdout",
     "output_type": "stream",
     "text": [
      "The integral of the function is: 0.025116293937943422\n"
     ]
    }
   ],
   "source": [
    "MonteCarlo(func1, 0, 2*np.pi, 100000)"
   ]
  },
  {
   "cell_type": "code",
   "execution_count": 8,
   "metadata": {
    "ExecuteTime": {
     "end_time": "2020-11-27T13:39:44.269607Z",
     "start_time": "2020-11-27T13:39:43.873641Z"
    }
   },
   "outputs": [
    {
     "name": "stdout",
     "output_type": "stream",
     "text": [
      "The integral of the function is: nan\n"
     ]
    }
   ],
   "source": [
    "MonteCarlo(func2, 0, 2*np.pi, 100000)"
   ]
  },
  {
   "cell_type": "markdown",
   "metadata": {},
   "source": [
    "Both the Trapezoidal Rule and Monte Carlo Integration yielded similar results for both $F_{1}(\\text{x})$ and $F_{2}(\\text{x})$. We can see that for $F_{1}(\\text{x})$, the integral approaches 0, while for $F_{2}(\\text{x})$, the value is nan."
   ]
  }
 ],
 "metadata": {
  "kernelspec": {
   "display_name": "Python 3",
   "language": "python",
   "name": "python3"
  },
  "language_info": {
   "codemirror_mode": {
    "name": "ipython",
    "version": 3
   },
   "file_extension": ".py",
   "mimetype": "text/x-python",
   "name": "python",
   "nbconvert_exporter": "python",
   "pygments_lexer": "ipython3",
   "version": "3.7.7"
  }
 },
 "nbformat": 4,
 "nbformat_minor": 4
}

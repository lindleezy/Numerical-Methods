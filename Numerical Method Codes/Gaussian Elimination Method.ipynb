{
 "cells": [
  {
   "cell_type": "markdown",
   "metadata": {},
   "source": [
    "# Solving Systems of Linear Equations"
   ]
  },
  {
   "cell_type": "markdown",
   "metadata": {},
   "source": [
    "### A notebook detailing codes for solving a system of linear equations using the Gaussian Elimination Method:"
   ]
  },
  {
   "cell_type": "code",
   "execution_count": 1,
   "metadata": {},
   "outputs": [],
   "source": [
    "def Gaussian(M):\n",
    "    # eliminate columns\n",
    "    for i in range(len(M[0])):\n",
    "        for j in range(i+1, len(M)):\n",
    "            r = [(jValue * (-(M[j][i] / M[i][i]))) for jValue in M[i]]\n",
    "            M[j] = [sum(pair) for pair in zip(M[j], r)]\n",
    "    # backsolve by substitution\n",
    "    ans = []\n",
    "    M.reverse() # makes it easier to backsolve\n",
    "    for sol in range(len(M)):\n",
    "            if sol == 0:\n",
    "                ans.append(M[sol][-1] / M[sol][-2])\n",
    "            else:\n",
    "                inner = 0\n",
    "                # substitute in all known coefficients\n",
    "                for x in range(sol):\n",
    "                    inner += (ans[x]*M[sol][-2-x])\n",
    "                # the equation is now reduced to ax + b = c form\n",
    "                # solve with (c - b) / a\n",
    "                ans.append((M[sol][-1]-inner)/M[sol][-sol-2])\n",
    "    ans.reverse()\n",
    "    return ans"
   ]
  },
  {
   "cell_type": "markdown",
   "metadata": {},
   "source": [
    "Given:\n",
    "\\begin{equation}\n",
    "2x+y+z = 1 \\\\\n",
    "6x+2y+z = -1 \\\\\n",
    "-2+2y+z = 7\n",
    "\\end{equation}"
   ]
  },
  {
   "cell_type": "code",
   "execution_count": 2,
   "metadata": {},
   "outputs": [
    {
     "name": "stdout",
     "output_type": "stream",
     "text": [
      "x = -1\n",
      "y = 2\n",
      "z = 1\n"
     ]
    }
   ],
   "source": [
    "M = [[2, 1, 1, 1],\n",
    "     [6, 2, 1, -1],\n",
    "     [-2, 2, 1, 7]]\n",
    "Mans = Gaussian(M)\n",
    "print 'x = %i' %Mans[0]\n",
    "print 'y = %i' %Mans[1]\n",
    "print 'z = %i' %Mans[2]"
   ]
  }
 ],
 "metadata": {
  "kernelspec": {
   "display_name": "Python 3",
   "language": "python",
   "name": "python3"
  },
  "language_info": {
   "codemirror_mode": {
    "name": "ipython",
    "version": 3
   },
   "file_extension": ".py",
   "mimetype": "text/x-python",
   "name": "python",
   "nbconvert_exporter": "python",
   "pygments_lexer": "ipython3",
   "version": "3.7.7"
  }
 },
 "nbformat": 4,
 "nbformat_minor": 2
}
